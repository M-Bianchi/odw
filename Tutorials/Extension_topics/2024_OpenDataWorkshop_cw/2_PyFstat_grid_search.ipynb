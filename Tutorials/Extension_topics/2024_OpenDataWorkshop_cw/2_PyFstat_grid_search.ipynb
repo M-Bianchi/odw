{
 "cells": [
  {
   "cell_type": "markdown",
   "metadata": {
    "id": "W3mXmgY78Xwj"
   },
   "source": [
    "# F-statistic tutorial\n",
    "\n",
    "We will use `PyFstat`.\n",
    "\n",
    "## Information about `PyFstat`\n",
    "- \"This is a python package providing an interface to perform F-statistic based continuous gravitational wave (CW) searches, built on top of the LALSuite library.\" (from github)\n",
    "- [github](https://github.com/PyFstat/PyFstat)\n",
    "- [document](https://pyfstat.readthedocs.io/en/latest/)\n",
    "- Developers  \n",
    "  - Maintainers: Greg Ashton, David Keitel  \n",
    "  - Active contributors: Reinhard Prix, Rodrigo Tenorio  \n",
    "  - Other contributors: Karl Wette, Sylvia Zhu, Dan Foreman-Mackey (pyfstat.gridcorner is based on DFM's corner.py)\n",
    "\n"
   ]
  },
  {
   "cell_type": "markdown",
   "metadata": {
    "id": "T0wKqZn62dza"
   },
   "source": [
    "## Install package\n",
    "\n",
    "First, you install the module `pyfstat`. At this moment, `numpy` will be reinstalled (Google colab preinstalled numpy, but it is not compatible with the pyfstat's requirement). After installing `numpy` and `pyfstat`, you need to restart the notebook. You just follow the popup."
   ]
  },
  {
   "cell_type": "code",
   "execution_count": null,
   "metadata": {
    "id": "5tG2dwLD88N3"
   },
   "outputs": [],
   "source": [
    "!pip install pyfstat"
   ]
  },
  {
   "cell_type": "markdown",
   "metadata": {
    "id": "fUDg-RVZ25VQ"
   },
   "source": [
    "You mount your google drive directory on this notebook. After that, you change the working directory to `2024_OpenDataWorkshop_cw`."
   ]
  },
  {
   "cell_type": "code",
   "execution_count": null,
   "metadata": {
    "id": "wcFE-Pd18wQL"
   },
   "outputs": [],
   "source": [
    "#----------------------\n",
    "# Setting up the environment\n",
    "#----------------------\n",
    "from google.colab import drive\n",
    "drive.mount('/content/drive')\n",
    "%cd /content/drive/MyDrive/2024_OpenDataWorkshop_cw\n",
    "!ls"
   ]
  },
  {
   "cell_type": "code",
   "execution_count": null,
   "metadata": {
    "id": "1uSQ3Kee8Xwl"
   },
   "outputs": [],
   "source": [
    "import os\n",
    "import matplotlib.pyplot as plt\n",
    "import numpy as np\n",
    "import pyfstat\n",
    "import lal\n",
    "lal.swig_redirect_standard_output_error(True)\n",
    "%matplotlib inline"
   ]
  },
  {
   "cell_type": "markdown",
   "metadata": {
    "id": "C8JFvcTc8gPD"
   },
   "source": [
    "## Search over $f^{(0)}$"
   ]
  },
  {
   "cell_type": "code",
   "execution_count": null,
   "metadata": {
    "id": "1Buur1338Xwn"
   },
   "outputs": [],
   "source": [
    "label = \"PyFstatExampleGridSearchF0\"\n",
    "outdir = os.path.join(\"Mockdata\", label)\n",
    "logger = pyfstat.set_up_logger(label=label, outdir=outdir)"
   ]
  },
  {
   "cell_type": "code",
   "execution_count": null,
   "metadata": {
    "id": "PAqiDjlg8Xwn"
   },
   "outputs": [],
   "source": [
    "sftfilepath = \"Mockdata/H-7008_H1_1800SFT_SingleDetectorGaussianNoiseSignalInjected-1238166018-12614400.sft\"\n",
    "tstart = 1238166018\n",
    "duration = 0.4 * 365 * 86400\n",
    "detectors = \"H1\"\n",
    "Tsft = 1800\n",
    "depth = 5\n",
    "sqrtSX = 1.0e-23\n",
    "inj = {\n",
    "    \"F0\": 100.0,\n",
    "    \"F1\": -1e-9,\n",
    "    \"F2\": 0.0,\n",
    "    \"Alpha\": 0.0,\n",
    "    \"Delta\": 0.0,\n",
    "    \"h0\": sqrtSX / depth,\n",
    "    \"cosi\": 1,\n",
    "    \"psi\": 0.0,\n",
    "    \"phi\": 0.0,\n",
    "    \"tref\": tstart\n",
    "}"
   ]
  },
  {
   "cell_type": "code",
   "execution_count": null,
   "metadata": {
    "id": "lVh_Uy7l8Xwp"
   },
   "outputs": [],
   "source": [
    "# Define grids and run the search\n",
    "# It will take 3-4 minutes.\n",
    "tend = tstart + duration\n",
    "tref = inj['tref']\n",
    "ngrid = 201     # The number of grid points\n",
    "dF0 = 1.0e-8    # Grid width in F0[Hz]\n",
    "DeltaF0 = (ngrid - 1) * dF0   # The range of F0 to be searched\n",
    "\n",
    "# The followings (F0s, F1s, F2s, Alphas, and Deltas) are the arguments of the function `pyfstat.GridSearch`.\n",
    "# They must be lists.\n",
    "# If you provide a single value, it means you fix that parameter.\n",
    "# If you provide three values, it shows the setting of grid search:\n",
    "# [xmin, xmax, dx]\n",
    "# xmin: minimum value of the search range\n",
    "# xmax: maximum value of the search range\n",
    "# dx: grid width\n",
    "F0s = [inj[\"F0\"] - DeltaF0 / 2.0, inj[\"F0\"] + DeltaF0 / 2.0, dF0]\n",
    "F1s = [inj[\"F1\"]]\n",
    "F2s = [inj[\"F2\"]]\n",
    "Alphas = [inj[\"Alpha\"]]\n",
    "Deltas = [inj[\"Delta\"]]\n",
    "\n",
    "# Carry our the grid search\n",
    "search = pyfstat.GridSearch(\n",
    "    label=label,\n",
    "    outdir=outdir,\n",
    "    sftfilepattern=sftfilepath,\n",
    "    F0s=F0s,\n",
    "    F1s=F1s,\n",
    "    F2s=F2s,\n",
    "    Alphas=Alphas,\n",
    "    Deltas=Deltas,\n",
    "    tref=tref,\n",
    "    minStartTime=tstart,\n",
    "    maxStartTime=tend,\n",
    ")\n",
    "search.run()"
   ]
  },
  {
   "cell_type": "code",
   "execution_count": null,
   "metadata": {
    "id": "tK35Sv888Xwp"
   },
   "outputs": [],
   "source": [
    "# report details of the maximum point\n",
    "max_dict = search.get_max_twoF()\n",
    "logger.info(\n",
    "    \"max2F={:.4f} from GridSearch, offsets from injection: {:s}.\".format(\n",
    "        max_dict[\"twoF\"],\n",
    "        \", \".join(\n",
    "            [\n",
    "                \"{:.4e} in {:s}\".format(max_dict[key] - inj[key], key)\n",
    "                for key in max_dict.keys()\n",
    "                if not key == \"twoF\"\n",
    "            ]\n",
    "        ),\n",
    "    )\n",
    ")\n",
    "search.generate_loudest()"
   ]
  },
  {
   "cell_type": "code",
   "execution_count": null,
   "metadata": {
    "id": "BT-2frX48Xwq"
   },
   "outputs": [],
   "source": [
    "logger.info(\"Plotting 2F(F0)...\")\n",
    "fig, ax = plt.subplots()\n",
    "frequencies = search.data[\"F0\"]\n",
    "twoF = search.data[\"twoF\"]\n",
    "ax.plot(frequencies - inj[\"F0\"], twoF, \"k\", lw=1)\n",
    "ax.set_xlabel(\"$f^{(0)} - f^{(0)}_\\\\mathrm{inj}$\")\n",
    "ax.set_ylabel(\"$\\\\widetilde{2\\\\mathcal{F}}$\")\n",
    "ax.set_xlim([- DeltaF0 / 2.0, DeltaF0 / 2.0])\n",
    "ax.set_title(f\"max[2F] = {np.max(twoF)}\")\n",
    "plt.tight_layout()\n",
    "fig.savefig(os.path.join(outdir, label + \"_1D.png\"), dpi=300)"
   ]
  },
  {
   "cell_type": "markdown",
   "metadata": {
    "id": "vF2Fp2p48Xwr"
   },
   "source": [
    "## Search over 2 dimensional parameter space $(f^{(0)}, f^{(1)})$"
   ]
  },
  {
   "cell_type": "code",
   "execution_count": null,
   "metadata": {
    "id": "fQ7oLjEi8Xws"
   },
   "outputs": [],
   "source": [
    "label = \"PyFstatExampleGridSearchF0F1\"\n",
    "outdir = os.path.join(\"Mockdata\", label)\n",
    "logger = pyfstat.set_up_logger(label=label, outdir=outdir)"
   ]
  },
  {
   "cell_type": "code",
   "execution_count": null,
   "metadata": {
    "id": "YoXb2uAP8Xwt"
   },
   "outputs": [],
   "source": [
    "# Define grids and run the search\n",
    "# It will take 3-4 minutes.\n",
    "ngrid_f0 = 41\n",
    "ngrid_f1 = 41\n",
    "dF0 = 1.0e-8\n",
    "DeltaF0 = (ngrid_f0 - 1) * dF0\n",
    "dF1 = 1.0e-15\n",
    "DeltaF1 = (ngrid_f1 - 1) * dF1\n",
    "F0s = [inj[\"F0\"] - DeltaF0 / 2.0, inj[\"F0\"] + DeltaF0 / 2.0, dF0]\n",
    "F1s = [inj[\"F1\"] - DeltaF1 / 2.0, inj[\"F1\"] + DeltaF1 / 2.0, dF1]\n",
    "F2s = [inj[\"F2\"]]\n",
    "Alphas = [inj[\"Alpha\"]]\n",
    "Deltas = [inj[\"Delta\"]]\n",
    "search = pyfstat.GridSearch(\n",
    "    label=label,\n",
    "    outdir=outdir,\n",
    "    sftfilepattern=sftfilepath,\n",
    "    F0s=F0s,\n",
    "    F1s=F1s,\n",
    "    F2s=F2s,\n",
    "    Alphas=Alphas,\n",
    "    Deltas=Deltas,\n",
    "    tref=tref,\n",
    "    minStartTime=tstart,\n",
    "    maxStartTime=tend,\n",
    ")\n",
    "search.run()"
   ]
  },
  {
   "cell_type": "code",
   "execution_count": null,
   "metadata": {
    "id": "okNF2WXzuWw8"
   },
   "outputs": [],
   "source": [
    "logger.info(\"Plotting 2F(F0)...\")\n",
    "search.plot_1D(xkey=\"F0\", xlabel=\"freq [Hz]\", ylabel=\"$2\\\\mathcal{F}$\")\n",
    "logger.info(\"Plotting 2F(F1)...\")\n",
    "search.plot_1D(xkey=\"F1\")\n",
    "logger.info(\"Plotting 2F(F0,F1)...\")\n",
    "search.plot_2D(xkey=\"F0\", ykey=\"F1\", colorbar=True)\n",
    "\n",
    "logger.info(\"Making gridcorner plot...\")\n",
    "F0_vals = np.unique(search.data[\"F0\"]) - inj[\"F0\"]\n",
    "F1_vals = np.unique(search.data[\"F1\"]) - inj[\"F1\"]\n",
    "twoF = search.data[\"twoF\"].reshape((len(F0_vals), len(F1_vals)))\n",
    "xyz = [F0_vals, F1_vals]\n",
    "labels = [\n",
    "    \"$f - f_\\mathrm{inj}$\",\n",
    "    \"$\\\\dot{f} - \\\\dot{f}_\\mathrm{inj}$\",\n",
    "    \"$\\\\widetilde{2\\\\mathcal{F}}$\",\n",
    "]\n",
    "fig, axes = pyfstat.gridcorner(\n",
    "    twoF, xyz, projection=\"log_mean\", labels=labels, whspace=0.1, factor=1.8\n",
    ")\n",
    "fig.savefig(os.path.join(outdir, label + \"_projection_matrix.png\"))"
   ]
  },
  {
   "cell_type": "markdown",
   "metadata": {
    "id": "1UHk6gfgjMwy"
   },
   "source": [
    "Q1. How does the contour plot of the posterior look like? What is the origin of this shape?  \n",
    "Q2. How large is the size of the contour? Why the contour have such a size?"
   ]
  }
 ],
 "metadata": {
  "colab": {
   "provenance": []
  },
  "kernelspec": {
   "display_name": "Python 3 (ipykernel)",
   "language": "python",
   "name": "python3"
  },
  "language_info": {
   "codemirror_mode": {
    "name": "ipython",
    "version": 3
   },
   "file_extension": ".py",
   "mimetype": "text/x-python",
   "name": "python",
   "nbconvert_exporter": "python",
   "pygments_lexer": "ipython3",
   "version": "3.9.19"
  }
 },
 "nbformat": 4,
 "nbformat_minor": 4
}
